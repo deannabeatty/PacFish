{
 "cells": [
  {
   "cell_type": "code",
   "execution_count": null,
   "metadata": {},
   "outputs": [],
   "source": [
    "import os\n",
    "import pandas as pd"
   ]
  },
  {
   "cell_type": "code",
   "execution_count": null,
   "metadata": {},
   "outputs": [],
   "source": [
    "blast_output = pd.read_csv(\"blastn_results.out\", delimiter=\"\\t\", header=None)\n",
    "blast_output.columns = ['qseqid', 'sseqid', 'pident', 'length', 'mismatch', 'gapopen', 'qstart', 'qend', 'sstart', 'send', 'evalue', 'bitscore',  'staxids']\n",
    "blast_output"
   ]
  },
  {
   "cell_type": "code",
   "execution_count": null,
   "metadata": {},
   "outputs": [],
   "source": [
    "taxid_sci_name = pd.read_csv(\"taxid_scientific_name.txt\", delimiter=\"\\t\", header=None)\n",
    "taxid_sci_name.columns = ['staxids', 'genus_species', 'common_name', 'rank', 'division']\n",
    "taxid_sci_name"
   ]
  },
  {
   "cell_type": "code",
   "execution_count": null,
   "metadata": {},
   "outputs": [],
   "source": [
    "def clean_df(df: pd.DataFrame) -> pd.DataFrame:\n",
    "    \"\"\"Move values for a row to the right if the common_name column (index 2) is filled with rank column value. This occurs when there is no common name available.\"\"\"\n",
    "    for index, row in df.iterrows():\n",
    "        if row['common_name'] in ['species', 'subspecies']:\n",
    "            df.at[index, 'common_name'] = ''\n",
    "            row_values = row[2:].values\n",
    "            df.iloc[index, 3:] = row_values[: -1]\n",
    "    return df"
   ]
  },
  {
   "cell_type": "code",
   "execution_count": null,
   "metadata": {},
   "outputs": [],
   "source": [
    "taxid_sci_name = clean_df(taxid_sci_name)\n",
    "print(taxid_sci_name['staxids'].dtype)\n",
    "taxid_sci_name['staxids'] = taxid_sci_name['staxids'].astype(str)"
   ]
  },
  {
   "cell_type": "code",
   "execution_count": null,
   "metadata": {},
   "outputs": [],
   "source": [
    "blast_plus_sci_name = blast_output.merge(taxid_sci_name, how='left', on='staxids')\n",
    "# blast_plus_sci_name.to_csv(\"blast_plus_sci_name.csv\")\n",
    "blast_plus_sci_name"
   ]
  },
  {
   "cell_type": "code",
   "execution_count": null,
   "metadata": {},
   "outputs": [],
   "source": [
    "blast_plus_sci_name['division'].unique()"
   ]
  },
  {
   "cell_type": "code",
   "execution_count": null,
   "metadata": {},
   "outputs": [],
   "source": [
    "taxid_sci_name['division'].unique()"
   ]
  },
  {
   "cell_type": "code",
   "execution_count": null,
   "metadata": {},
   "outputs": [],
   "source": [
    "taxid_sci_name['common_name'].unique()"
   ]
  },
  {
   "cell_type": "code",
   "execution_count": null,
   "metadata": {},
   "outputs": [],
   "source": [
    "taxid_sci_name['genus_species'].unique()\n",
    "len(taxid_sci_name['genus_species'].unique())"
   ]
  },
  {
   "cell_type": "code",
   "execution_count": null,
   "metadata": {},
   "outputs": [],
   "source": [
    "non_fish_list = ['g-proteobacteria', 'birds', 'bats',\n",
    "       'unclassified sequences', 'carnivores',\n",
    "       'bacteria', 'primates', 'even-toed ungulates & whales']"
   ]
  },
  {
   "cell_type": "code",
   "execution_count": null,
   "metadata": {},
   "outputs": [],
   "source": [
    "non_fish_blast_hits = blast_plus_sci_name.loc[blast_plus_sci_name['division'].isin(non_fish_list)]\n",
    "# non_fish_blast_hits.to_csv(\"non_fish_blast_hits.csv\")"
   ]
  },
  {
   "cell_type": "code",
   "execution_count": null,
   "metadata": {},
   "outputs": [],
   "source": [
    "len(non_fish_blast_hits['qseqid'].unique())\n",
    "non_fish_sequence_ids = non_fish_blast_hits['qseqid'].unique()"
   ]
  },
  {
   "cell_type": "code",
   "execution_count": null,
   "metadata": {},
   "outputs": [],
   "source": [
    "non_fish_sequence_ids"
   ]
  },
  {
   "cell_type": "code",
   "execution_count": null,
   "metadata": {},
   "outputs": [],
   "source": [
    "with open(\"dna-sequences.fasta\", \"r\") as fasta:\n",
    "        with open(\"dna-sequences-filtered.fasta\", \"w\") as filtered_fasta:\n",
    "            write_sequence = True \n",
    "            for line in fasta:\n",
    "                if line.startswith(\">\"):\n",
    "                    hashid = line[1:].strip()\n",
    "                    print(hashid)\n",
    "                    write_sequence = hashid not in non_fish_sequence_ids # evals to a boolean\n",
    "                if write_sequence:\n",
    "                    filtered_fasta.write(line)\n",
    "                else: \n",
    "                    pass"
   ]
  },
  {
   "cell_type": "code",
   "execution_count": null,
   "metadata": {},
   "outputs": [],
   "source": [
    "!grep -c '^>' dna-sequences.fasta "
   ]
  },
  {
   "cell_type": "code",
   "execution_count": null,
   "metadata": {},
   "outputs": [],
   "source": [
    "!grep -c '^>' dna-sequences-filtered.fasta "
   ]
  }
 ],
 "metadata": {
  "kernelspec": {
   "display_name": "parse_blast",
   "language": "python",
   "name": "python3"
  },
  "language_info": {
   "codemirror_mode": {
    "name": "ipython",
    "version": 3
   },
   "file_extension": ".py",
   "mimetype": "text/x-python",
   "name": "python",
   "nbconvert_exporter": "python",
   "pygments_lexer": "ipython3",
   "version": "3.9.20"
  }
 },
 "nbformat": 4,
 "nbformat_minor": 2
}
